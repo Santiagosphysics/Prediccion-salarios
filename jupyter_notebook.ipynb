{
 "cells": [
  {
   "cell_type": "markdown",
   "metadata": {},
   "source": [
    "# 1. Preprocesamiento de los datos\n",
    "\n",
    "A continuación se realizarán las funciones que permitiran usar el conjunto de datos 'Salary_data', con el que se pretende predecir cuál será el salario de una persona, dependiendo de su nivel académico, años de experiencia, cargo al que aspira."
   ]
  },
  {
   "cell_type": "code",
   "execution_count": 1,
   "metadata": {},
   "outputs": [],
   "source": [
    "import pandas as pd \n",
    "import numpy as np \n",
    "from sklearn.preprocessing import OneHotEncoder\n",
    "\n",
    "class pre:\n",
    "    def creation_data(self, path_csv):\n",
    "        df = pd.read_csv(path_csv)\n",
    "        return df\n",
    "    def declaration_var(self, data, target):\n",
    "        target_1 = data[target]\n",
    "        features = data.drop(target, axis=1)\n",
    "        names_f = {name:set() for name in features}\n",
    "        for i in features:\n",
    "            index_drop = features[i][features[i].isnull() == True].index\n",
    "            features.drop(index_drop, inplace = True)    \n",
    "            target_1.drop(index_drop, inplace = True)\n",
    "        for i in features:\n",
    "            for j in features[i]:\n",
    "                names_f[i].add(j)   \n",
    "        index_targ = target_1[target_1.isnull() == True].index\n",
    "        target_1.drop(index_targ, inplace=True)   \n",
    "        features.drop(index_targ, inplace=True)                    \n",
    "        return target_1, features, names_f\n",
    "    def replace(self, variable, var_1, var_2, features):\n",
    "        new_values = [var_1 if value == var_1 or value == var_2 else value for value in features[variable]]\n",
    "        features[variable] = new_values\n",
    "        return features"
   ]
  },
  {
   "cell_type": "markdown",
   "metadata": {},
   "source": [
    "Importación de las librerías que se usarán"
   ]
  },
  {
   "cell_type": "code",
   "execution_count": 2,
   "metadata": {},
   "outputs": [],
   "source": [
    "from sklearn.pipeline import Pipeline, make_pipeline\n",
    "from sklearn.preprocessing import StandardScaler\n",
    "from sklearn.compose import ColumnTransformer\n",
    "from sklearn.linear_model import LinearRegression, Ridge\n",
    "from sklearn.ensemble import RandomForestRegressor\n",
    "from sklearn.preprocessing import OneHotEncoder\n",
    "from sklearn.metrics import r2_score, mean_squared_error\n",
    "\n",
    "processing = pre()"
   ]
  },
  {
   "cell_type": "markdown",
   "metadata": {},
   "source": [
    "Definición del conjunto de datos del que se hará uso y la variable objetivo, junto a las demás variables"
   ]
  },
  {
   "cell_type": "code",
   "execution_count": 3,
   "metadata": {},
   "outputs": [],
   "source": [
    "from sklearn.compose import ColumnTransformer\n",
    "\n",
    "x = r'C:\\Users\\santi\\OneDrive - Universidad Pedagogica Nacional\\El_bosque\\tercer_semestre\\machine_learning_ll\\proyecto\\Salary_Data.csv'\n",
    "data = pre().creation_data(x)\n",
    "target, features, names_f = pre().declaration_var(data, 'Salary')"
   ]
  },
  {
   "cell_type": "markdown",
   "metadata": {},
   "source": [
    "Luego de definir el target y features, se determina que las variables \"Age\",\"Years of Experience\" pueden tener un diferente tipo de formato, con el que se consuma menos recursos computacionales.\n",
    "\n",
    "También, se encontró que en la variable Education Level, poseía errores tipográficos, donde los diferentes elementos que lo conforman estaban nombrados de diferente forma, apesar de representar el mismo objeto.\n",
    "\n",
    "Por ejemplo, Bachelor's Degree representa una persona con un título de bachiller y Bachelor's es la forma en la que se puede resumir a una persona con el mismo título. Por lo tanto, ambos elementos comparten las mismas características y deben tomarse como objeto único.\n"
   ]
  },
  {
   "cell_type": "code",
   "execution_count": 4,
   "metadata": {},
   "outputs": [],
   "source": [
    "\n",
    "# Cambiar el tipo de formato\n",
    "features['Age'] = features['Age'].astype('int16')\n",
    "features['Years of Experience'] = features['Years of Experience'].astype('int64')\n",
    "\n",
    "# Unir las variables repetidas\n",
    "features = pre().replace('Education Level', \"Bachelor's\", \"Bachelor's Degree\", features)\n",
    "features = pre().replace('Education Level', \"Master's\", \"Master's Degree\", features)\n",
    "features = pre().replace('Education Level', \"PhD\", \"phD\", features)\n",
    "\n",
    "num_features = ['Age', 'Years of Experience']\n",
    "cat_features = ['Gender', 'Education Level', 'Job Title']"
   ]
  },
  {
   "cell_type": "markdown",
   "metadata": {},
   "source": [
    "Se define los pipelines para las variables categóricas y numéricas, además se transforma en el tipo de dato correcto para que se pueda entrenar con los diferentes modelos de regresión"
   ]
  },
  {
   "cell_type": "code",
   "execution_count": 5,
   "metadata": {},
   "outputs": [],
   "source": [
    "\n",
    "def pipe(categorical_features, features):\n",
    "    num_transformer = Pipeline(steps=[('scaler', StandardScaler())])\n",
    "    cat_transformer = Pipeline(steps=[('one_hot', OneHotEncoder(handle_unknown='ignore'))])\n",
    "    return num_transformer, cat_transformer\n",
    "\n",
    "def column_trans(num_transformer, num_features, cat_transformer, cat_features):\n",
    "    preprocessor = ColumnTransformer(\n",
    "        transformers=[\n",
    "            ('numerical', num_transformer, num_features),\n",
    "            ('categorical', cat_transformer, cat_features)\n",
    "        ]\n",
    "    )\n",
    "    return preprocessor\n",
    "\n",
    "num_transformer, cat_transformer = pipe(cat_features, features)\n",
    "preprocessor = column_trans(num_transformer, num_features, cat_transformer, cat_features)"
   ]
  },
  {
   "cell_type": "markdown",
   "metadata": {},
   "source": [
    "## Models"
   ]
  },
  {
   "cell_type": "markdown",
   "metadata": {},
   "source": [
    "Con esta función se crean diferentes modelos de regresión como Lineal, RandomForest, Ridge"
   ]
  },
  {
   "cell_type": "code",
   "execution_count": 6,
   "metadata": {},
   "outputs": [],
   "source": [
    "def gen_pipe( preprocessor):\n",
    "    models = []    \n",
    "    pipeline_ml = Pipeline(\n",
    "        steps = [('preprocessor_column', preprocessor),\n",
    "                ('linear_model', LinearRegression())])\n",
    "    models.append(pipeline_ml)\n",
    "        \n",
    "    pipeline_ridge = Pipeline(\n",
    "        steps = [('preprocessor_column', preprocessor),\n",
    "                ('model_ridge', Ridge(alpha=0.2))])\n",
    "    models.append(pipeline_ridge)\n",
    "    \n",
    "    pipeline_rf = Pipeline(\n",
    "        steps=[('preprocessor_column', preprocessor),\n",
    "            ('random_forest', RandomForestRegressor(n_estimators=200))])\n",
    "    models.append(pipeline_rf)\n",
    "    \n",
    "    return models"
   ]
  },
  {
   "cell_type": "markdown",
   "metadata": {},
   "source": [
    "División de los datos de entrenamiento y de prueba"
   ]
  },
  {
   "cell_type": "code",
   "execution_count": 7,
   "metadata": {},
   "outputs": [],
   "source": [
    "from sklearn.model_selection import train_test_split \n",
    "X_train, X_test,y_train, y_test = train_test_split(features, target, test_size=0.2, random_state=42)\n",
    "models = gen_pipe(preprocessor)"
   ]
  },
  {
   "cell_type": "code",
   "execution_count": null,
   "metadata": {},
   "outputs": [],
   "source": [
    "models_metrics = {i:[] for i in range(len(models)) }\n",
    "\n",
    "for i in models_metrics:\n",
    "    model = models[i].fit(X_train, y_train)\n",
    "    prediction = model.predict(X_test)\n",
    "    r2 = r2_score(y_test, prediction)\n",
    "    mse = mean_squared_error(y_test, prediction)\n",
    "    rmse = np.sqrt(mean_squared_error(y_test, prediction))\n",
    "    list_1 = [r2,mse,rmse]\n",
    "    models_metrics[i] = [round(metrics, 2) for metrics in list_1]\n"
   ]
  },
  {
   "cell_type": "code",
   "execution_count": 9,
   "metadata": {},
   "outputs": [
    {
     "data": {
      "text/html": [
       "<div>\n",
       "<style scoped>\n",
       "    .dataframe tbody tr th:only-of-type {\n",
       "        vertical-align: middle;\n",
       "    }\n",
       "\n",
       "    .dataframe tbody tr th {\n",
       "        vertical-align: top;\n",
       "    }\n",
       "\n",
       "    .dataframe thead th {\n",
       "        text-align: right;\n",
       "    }\n",
       "</style>\n",
       "<table border=\"1\" class=\"dataframe\">\n",
       "  <thead>\n",
       "    <tr style=\"text-align: right;\">\n",
       "      <th></th>\n",
       "      <th>LinearRegression</th>\n",
       "      <th>Ridge</th>\n",
       "      <th>RandomForestRegressor</th>\n",
       "    </tr>\n",
       "  </thead>\n",
       "  <tbody>\n",
       "    <tr>\n",
       "      <th>R2</th>\n",
       "      <td>8.400000e-01</td>\n",
       "      <td>8.400000e-01</td>\n",
       "      <td>0.97</td>\n",
       "    </tr>\n",
       "    <tr>\n",
       "      <th>mse</th>\n",
       "      <td>4.557094e+08</td>\n",
       "      <td>4.556481e+08</td>\n",
       "      <td>71345821.34</td>\n",
       "    </tr>\n",
       "    <tr>\n",
       "      <th>rmse</th>\n",
       "      <td>2.134735e+04</td>\n",
       "      <td>2.134592e+04</td>\n",
       "      <td>8446.65</td>\n",
       "    </tr>\n",
       "  </tbody>\n",
       "</table>\n",
       "</div>"
      ],
      "text/plain": [
       "      LinearRegression         Ridge  RandomForestRegressor\n",
       "R2        8.400000e-01  8.400000e-01                   0.97\n",
       "mse       4.557094e+08  4.556481e+08            71345821.34\n",
       "rmse      2.134735e+04  2.134592e+04                8446.65"
      ]
     },
     "execution_count": 9,
     "metadata": {},
     "output_type": "execute_result"
    }
   ],
   "source": [
    "names = ['LinearRegression', 'Ridge', 'RandomForestRegressor']\n",
    "index_final = ['R2', 'mse', 'rmse']\n",
    "\n",
    "models_metrics = pd.DataFrame(data = models_metrics,index = index_final)\n",
    "models_metrics.columns = names\n",
    "models_metrics"
   ]
  }
 ],
 "metadata": {
  "kernelspec": {
   "display_name": "mi_entorno",
   "language": "python",
   "name": "python3"
  },
  "language_info": {
   "codemirror_mode": {
    "name": "ipython",
    "version": 3
   },
   "file_extension": ".py",
   "mimetype": "text/x-python",
   "name": "python",
   "nbconvert_exporter": "python",
   "pygments_lexer": "ipython3",
   "version": "3.9.18"
  }
 },
 "nbformat": 4,
 "nbformat_minor": 2
}
