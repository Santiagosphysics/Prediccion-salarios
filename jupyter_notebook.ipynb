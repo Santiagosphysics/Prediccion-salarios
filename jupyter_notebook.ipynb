{
 "cells": [
  {
   "cell_type": "markdown",
   "metadata": {},
   "source": [
    "# PROYECTO FINAL MACHINE LEARNING II"
   ]
  },
  {
   "cell_type": "markdown",
   "metadata": {},
   "source": [
    "### Estudiantes\n",
    "\n",
    "\n",
    "* Michael Santiago Jimenez Caballero\n",
    "* Julio Cesar Ramirez Jimenez\n",
    "* Enzo Fabian Marines Lamprea\n",
    "* Maria Pilar Villate Avendaño\n",
    "------\n",
    "------\n",
    "\n",
    "\n",
    "\n"
   ]
  },
  {
   "cell_type": "markdown",
   "metadata": {},
   "source": [
    "# Modelo de Machine Learning para la Predicción Salarial "
   ]
  },
  {
   "cell_type": "markdown",
   "metadata": {},
   "source": [
    "## 1. Motivación\n",
    "\n",
    "En el actual panorama laboral, comprender y prever los salarios es esencial para empleadores y empleados por igual. Con el objetivo de facilitar este proceso, hemos desarrollado un modelo de machine learning basado en el conjunto de datos \"Salary_Data\". Este conjunto de datos, recopilado a partir de diversas fuentes que incluyen encuestas, sitios de ofertas de trabajo y otras fuentes públicas, consta de un total de 6704 puntos de datos, cada uno con información detallada sobre edad, experiencia laboral, rol laboral, nivel educativo y salario.\n"
   ]
  },
  {
   "cell_type": "markdown",
   "metadata": {},
   "source": [
    "## 2. Descripción de los datos\n",
    "\n",
    "1. **Edad:** La edad en años de los individuos\n",
    "\n",
    "2. **Genero**: Esta compuesto por valores de femenimo, masculinos y otros\n",
    "\n",
    "3. **Experiencia:** La experiencia laboral acumulada por los individuos en años.\n",
    "\n",
    "4. **Rol Laboral:** El título del trabajo que desempeñan los individuos. Incluye roles como ingeniero de software, analista de datos, gerente senior, asociado de ventas, entre otros.\n",
    "\n",
    "5. **Nivel Educativo:** El nivel de educación alcanzado por los individuos. Tales como \n",
    "\n",
    "* Bachelor's: Licenciatura. \n",
    "* Master's: Maestría. \n",
    "* PhD: Doctorado.\n",
    "* High School: Educación secundaria. \n",
    "\n",
    "6. **Salario:** La variable objetivo que buscamos prever."
   ]
  },
  {
   "cell_type": "markdown",
   "metadata": {},
   "source": [
    "# 3. Preprocesamiento de los datos y visualización de los datos"
   ]
  },
  {
   "cell_type": "markdown",
   "metadata": {},
   "source": [
    "### 3.1. Exploración de los datos"
   ]
  },
  {
   "cell_type": "markdown",
   "metadata": {},
   "source": [
    "A continuación observamos el encabezado del conjunto de datos, el cual observamos las variables que vamos a utilizar."
   ]
  },
  {
   "cell_type": "code",
   "execution_count": 26,
   "metadata": {},
   "outputs": [
    {
     "data": {
      "text/html": [
       "<div>\n",
       "<style scoped>\n",
       "    .dataframe tbody tr th:only-of-type {\n",
       "        vertical-align: middle;\n",
       "    }\n",
       "\n",
       "    .dataframe tbody tr th {\n",
       "        vertical-align: top;\n",
       "    }\n",
       "\n",
       "    .dataframe thead th {\n",
       "        text-align: right;\n",
       "    }\n",
       "</style>\n",
       "<table border=\"1\" class=\"dataframe\">\n",
       "  <thead>\n",
       "    <tr style=\"text-align: right;\">\n",
       "      <th></th>\n",
       "      <th>Age</th>\n",
       "      <th>Gender</th>\n",
       "      <th>Education Level</th>\n",
       "      <th>Job Title</th>\n",
       "      <th>Years of Experience</th>\n",
       "      <th>Salary</th>\n",
       "    </tr>\n",
       "  </thead>\n",
       "  <tbody>\n",
       "    <tr>\n",
       "      <th>0</th>\n",
       "      <td>32.0</td>\n",
       "      <td>Male</td>\n",
       "      <td>Bachelor's</td>\n",
       "      <td>Software Engineer</td>\n",
       "      <td>5.0</td>\n",
       "      <td>90000.0</td>\n",
       "    </tr>\n",
       "    <tr>\n",
       "      <th>1</th>\n",
       "      <td>28.0</td>\n",
       "      <td>Female</td>\n",
       "      <td>Master's</td>\n",
       "      <td>Data Analyst</td>\n",
       "      <td>3.0</td>\n",
       "      <td>65000.0</td>\n",
       "    </tr>\n",
       "    <tr>\n",
       "      <th>2</th>\n",
       "      <td>45.0</td>\n",
       "      <td>Male</td>\n",
       "      <td>PhD</td>\n",
       "      <td>Senior Manager</td>\n",
       "      <td>15.0</td>\n",
       "      <td>150000.0</td>\n",
       "    </tr>\n",
       "    <tr>\n",
       "      <th>3</th>\n",
       "      <td>36.0</td>\n",
       "      <td>Female</td>\n",
       "      <td>Bachelor's</td>\n",
       "      <td>Sales Associate</td>\n",
       "      <td>7.0</td>\n",
       "      <td>60000.0</td>\n",
       "    </tr>\n",
       "    <tr>\n",
       "      <th>4</th>\n",
       "      <td>52.0</td>\n",
       "      <td>Male</td>\n",
       "      <td>Master's</td>\n",
       "      <td>Director</td>\n",
       "      <td>20.0</td>\n",
       "      <td>200000.0</td>\n",
       "    </tr>\n",
       "  </tbody>\n",
       "</table>\n",
       "</div>"
      ],
      "text/plain": [
       "    Age  Gender Education Level          Job Title  Years of Experience  \\\n",
       "0  32.0    Male      Bachelor's  Software Engineer                  5.0   \n",
       "1  28.0  Female        Master's       Data Analyst                  3.0   \n",
       "2  45.0    Male             PhD     Senior Manager                 15.0   \n",
       "3  36.0  Female      Bachelor's    Sales Associate                  7.0   \n",
       "4  52.0    Male        Master's           Director                 20.0   \n",
       "\n",
       "     Salary  \n",
       "0   90000.0  \n",
       "1   65000.0  \n",
       "2  150000.0  \n",
       "3   60000.0  \n",
       "4  200000.0  "
      ]
     },
     "execution_count": 26,
     "metadata": {},
     "output_type": "execute_result"
    }
   ],
   "source": [
    "df= pd.read_csv('Salary_Data.csv')\n",
    "df.head()"
   ]
  },
  {
   "cell_type": "markdown",
   "metadata": {},
   "source": [
    "A continuación observaremos los valores unicos de cada variable"
   ]
  },
  {
   "cell_type": "code",
   "execution_count": 28,
   "metadata": {},
   "outputs": [
    {
     "name": "stdout",
     "output_type": "stream",
     "text": [
      "Valores únicos en la variable 'genero':\n",
      "['Male' 'Female' nan 'Other']\n",
      "Valores únicos en la variable 'edad':\n",
      "[32. 28. 45. 36. 52. 29. 42. 31. 26. 38. 48. 35. 40. 27. 44. 33. 39. 25.\n",
      " 51. 34. 47. 30. 41. 37. 24. 43. 50. 46. 49. 23. 53. nan 61. 57. 62. 55.\n",
      " 56. 54. 60. 58. 22. 21.]\n",
      "Valores únicos en la variable 'nivel educativo':\n",
      "[\"Bachelor's\" \"Master's\" 'PhD' nan \"Bachelor's Degree\" \"Master's Degree\"\n",
      " 'High School' 'phD']\n",
      "Valores únicos en la variable 'Job Title':\n",
      "['Software Engineer' 'Data Analyst' 'Senior Manager' 'Sales Associate'\n",
      " 'Director' 'Marketing Analyst' 'Product Manager' 'Sales Manager'\n",
      " 'Marketing Coordinator' 'Senior Scientist' 'Software Developer'\n",
      " 'HR Manager' 'Financial Analyst' 'Project Manager' 'Customer Service Rep'\n",
      " 'Operations Manager' 'Marketing Manager' 'Senior Engineer'\n",
      " 'Data Entry Clerk' 'Sales Director' 'Business Analyst' 'VP of Operations'\n",
      " 'IT Support' 'Recruiter' 'Financial Manager' 'Social Media Specialist'\n",
      " 'Software Manager' 'Junior Developer' 'Senior Consultant'\n",
      " 'Product Designer' 'CEO' 'Accountant' 'Data Scientist'\n",
      " 'Marketing Specialist' 'Technical Writer' 'HR Generalist'\n",
      " 'Project Engineer' 'Customer Success Rep' 'Sales Executive' 'UX Designer'\n",
      " 'Operations Director' 'Network Engineer' 'Administrative Assistant'\n",
      " 'Strategy Consultant' 'Copywriter' 'Account Manager'\n",
      " 'Director of Marketing' 'Help Desk Analyst' 'Customer Service Manager'\n",
      " 'Business Intelligence Analyst' 'Event Coordinator' 'VP of Finance'\n",
      " 'Graphic Designer' 'UX Researcher' 'Social Media Manager'\n",
      " 'Director of Operations' 'Senior Data Scientist' 'Junior Accountant'\n",
      " 'Digital Marketing Manager' 'IT Manager'\n",
      " 'Customer Service Representative' 'Business Development Manager'\n",
      " 'Senior Financial Analyst' 'Web Developer' 'Research Director'\n",
      " 'Technical Support Specialist' 'Creative Director'\n",
      " 'Senior Software Engineer' 'Human Resources Director'\n",
      " 'Content Marketing Manager' 'Technical Recruiter' 'Sales Representative'\n",
      " 'Chief Technology Officer' 'Junior Designer' 'Financial Advisor'\n",
      " 'Junior Account Manager' 'Senior Project Manager' 'Principal Scientist'\n",
      " 'Supply Chain Manager' 'Senior Marketing Manager' 'Training Specialist'\n",
      " 'Research Scientist' 'Junior Software Developer'\n",
      " 'Public Relations Manager' 'Operations Analyst'\n",
      " 'Product Marketing Manager' 'Senior HR Manager' 'Junior Web Developer'\n",
      " 'Senior Project Coordinator' 'Chief Data Officer'\n",
      " 'Digital Content Producer' 'IT Support Specialist'\n",
      " 'Senior Marketing Analyst' 'Customer Success Manager'\n",
      " 'Senior Graphic Designer' 'Software Project Manager'\n",
      " 'Supply Chain Analyst' 'Senior Business Analyst'\n",
      " 'Junior Marketing Analyst' 'Office Manager' 'Principal Engineer'\n",
      " 'Junior HR Generalist' 'Senior Product Manager'\n",
      " 'Junior Operations Analyst' 'Senior HR Generalist'\n",
      " 'Sales Operations Manager' 'Senior Software Developer'\n",
      " 'Junior Web Designer' 'Senior Training Specialist'\n",
      " 'Senior Research Scientist' 'Junior Sales Representative'\n",
      " 'Junior Marketing Manager' 'Junior Data Analyst'\n",
      " 'Senior Product Marketing Manager' 'Junior Business Analyst'\n",
      " 'Senior Sales Manager' 'Junior Marketing Specialist'\n",
      " 'Junior Project Manager' 'Senior Accountant' 'Director of Sales'\n",
      " 'Junior Recruiter' 'Senior Business Development Manager'\n",
      " 'Senior Product Designer' 'Junior Customer Support Specialist'\n",
      " 'Senior IT Support Specialist' 'Junior Financial Analyst'\n",
      " 'Senior Operations Manager' 'Director of Human Resources'\n",
      " 'Junior Software Engineer' 'Senior Sales Representative'\n",
      " 'Director of Product Management' 'Junior Copywriter'\n",
      " 'Senior Marketing Coordinator' 'Senior Human Resources Manager'\n",
      " 'Junior Business Development Associate' 'Senior Account Manager'\n",
      " 'Senior Researcher' 'Junior HR Coordinator' 'Director of Finance'\n",
      " 'Junior Marketing Coordinator' nan 'Junior Data Scientist'\n",
      " 'Senior Operations Analyst' 'Senior Human Resources Coordinator'\n",
      " 'Senior UX Designer' 'Junior Product Manager'\n",
      " 'Senior Marketing Specialist' 'Senior IT Project Manager'\n",
      " 'Senior Quality Assurance Analyst' 'Director of Sales and Marketing'\n",
      " 'Senior Account Executive' 'Director of Business Development'\n",
      " 'Junior Social Media Manager' 'Senior Human Resources Specialist'\n",
      " 'Senior Data Analyst' 'Director of Human Capital'\n",
      " 'Junior Advertising Coordinator' 'Junior UX Designer'\n",
      " 'Senior Marketing Director' 'Senior IT Consultant'\n",
      " 'Senior Financial Advisor' 'Junior Business Operations Analyst'\n",
      " 'Junior Social Media Specialist' 'Senior Product Development Manager'\n",
      " 'Junior Operations Manager' 'Senior Software Architect'\n",
      " 'Junior Research Scientist' 'Senior Financial Manager'\n",
      " 'Senior HR Specialist' 'Senior Data Engineer'\n",
      " 'Junior Operations Coordinator' 'Director of HR'\n",
      " 'Senior Operations Coordinator' 'Junior Financial Advisor'\n",
      " 'Director of Engineering' 'Software Engineer Manager'\n",
      " 'Back end Developer' 'Senior Project Engineer' 'Full Stack Engineer'\n",
      " 'Front end Developer' 'Developer' 'Front End Developer'\n",
      " 'Director of Data Science' 'Human Resources Coordinator'\n",
      " 'Junior Sales Associate' 'Human Resources Manager'\n",
      " 'Juniour HR Generalist' 'Juniour HR Coordinator'\n",
      " 'Digital Marketing Specialist' 'Receptionist' 'Marketing Director'\n",
      " 'Social M' 'Social Media Man' 'Delivery Driver']\n"
     ]
    }
   ],
   "source": [
    "#Composición de las variables\n",
    "import pandas as pd\n",
    "\n",
    "# Suponiendo que df es tu DataFrame y 'age' es la columna de interés\n",
    "unique_gender_values = df['Gender'].unique()\n",
    "\n",
    "print(\"Valores únicos en la variable 'genero':\")\n",
    "print(unique_gender_values)\n",
    "\n",
    "#age\n",
    "unique_age_values = df['Age'].unique()\n",
    "print(\"Valores únicos en la variable 'edad':\")\n",
    "print(unique_age_values)\n",
    "\n",
    "\n",
    "#Nivel educativo\n",
    "unique_niveleducativo_values = df['Education Level'].unique()\n",
    "print(\"Valores únicos en la variable 'nivel educativo':\")\n",
    "print(unique_niveleducativo_values)\n",
    "\n",
    "\n",
    "#Job Title\n",
    "unique_JobTitle_values = df['Job Title'].unique()\n",
    "print(\"Valores únicos en la variable 'Job Title':\")\n",
    "print(unique_JobTitle_values)\n"
   ]
  },
  {
   "cell_type": "markdown",
   "metadata": {},
   "source": [
    "Observamos que para el caso de la variable Education Level es necesario homegenizar los nombres de las variables, ya que existen valores iguales que se encuentran escritos de diferente forma, lo cual realizaremos en el preprocesamiento de datos, através de funciones."
   ]
  },
  {
   "cell_type": "code",
   "execution_count": 32,
   "metadata": {},
   "outputs": [
    {
     "data": {
      "image/png": "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",
      "text/plain": [
       "<Figure size 511.111x500 with 1 Axes>"
      ]
     },
     "metadata": {},
     "output_type": "display_data"
    }
   ],
   "source": [
    "import seaborn as sns\n",
    "import matplotlib.pyplot as plt\n",
    "sns.catplot(data=df, y=\"Education Level\", kind=\"count\")\n",
    "plt.show() "
   ]
  },
  {
   "cell_type": "code",
   "execution_count": 35,
   "metadata": {},
   "outputs": [
    {
     "data": {
      "text/html": [
       "<div>\n",
       "<style scoped>\n",
       "    .dataframe tbody tr th:only-of-type {\n",
       "        vertical-align: middle;\n",
       "    }\n",
       "\n",
       "    .dataframe tbody tr th {\n",
       "        vertical-align: top;\n",
       "    }\n",
       "\n",
       "    .dataframe thead th {\n",
       "        text-align: right;\n",
       "    }\n",
       "</style>\n",
       "<table border=\"1\" class=\"dataframe\">\n",
       "  <thead>\n",
       "    <tr style=\"text-align: right;\">\n",
       "      <th></th>\n",
       "      <th>count</th>\n",
       "      <th>mean</th>\n",
       "      <th>std</th>\n",
       "      <th>min</th>\n",
       "      <th>25%</th>\n",
       "      <th>50%</th>\n",
       "      <th>75%</th>\n",
       "      <th>max</th>\n",
       "    </tr>\n",
       "  </thead>\n",
       "  <tbody>\n",
       "    <tr>\n",
       "      <th>Age</th>\n",
       "      <td>6702.0</td>\n",
       "      <td>33.620859</td>\n",
       "      <td>7.614633</td>\n",
       "      <td>21.0</td>\n",
       "      <td>28.0</td>\n",
       "      <td>32.0</td>\n",
       "      <td>38.0</td>\n",
       "      <td>62.0</td>\n",
       "    </tr>\n",
       "    <tr>\n",
       "      <th>Years of Experience</th>\n",
       "      <td>6701.0</td>\n",
       "      <td>8.094687</td>\n",
       "      <td>6.059003</td>\n",
       "      <td>0.0</td>\n",
       "      <td>3.0</td>\n",
       "      <td>7.0</td>\n",
       "      <td>12.0</td>\n",
       "      <td>34.0</td>\n",
       "    </tr>\n",
       "    <tr>\n",
       "      <th>Salary</th>\n",
       "      <td>6699.0</td>\n",
       "      <td>115326.964771</td>\n",
       "      <td>52786.183911</td>\n",
       "      <td>350.0</td>\n",
       "      <td>70000.0</td>\n",
       "      <td>115000.0</td>\n",
       "      <td>160000.0</td>\n",
       "      <td>250000.0</td>\n",
       "    </tr>\n",
       "  </tbody>\n",
       "</table>\n",
       "</div>"
      ],
      "text/plain": [
       "                      count           mean           std    min      25%  \\\n",
       "Age                  6702.0      33.620859      7.614633   21.0     28.0   \n",
       "Years of Experience  6701.0       8.094687      6.059003    0.0      3.0   \n",
       "Salary               6699.0  115326.964771  52786.183911  350.0  70000.0   \n",
       "\n",
       "                          50%       75%       max  \n",
       "Age                      32.0      38.0      62.0  \n",
       "Years of Experience       7.0      12.0      34.0  \n",
       "Salary               115000.0  160000.0  250000.0  "
      ]
     },
     "execution_count": 35,
     "metadata": {},
     "output_type": "execute_result"
    }
   ],
   "source": [
    "df.describe().T"
   ]
  },
  {
   "cell_type": "markdown",
   "metadata": {},
   "source": [
    "Edad: La edad minima de las personas entrevistadas es de 21 y la edad máxima es de 62, con un promedio de 62 años.\n",
    "Años de experiencia: En la pobación encuestada se observan personas sin experencia hasta personas con experiencia de 34 años con una media de 8 años.\n",
    "Salarios: Los salarios de la población encuestada van desde 350 hasta 250000"
   ]
  },
  {
   "cell_type": "markdown",
   "metadata": {},
   "source": [
    "Visualización de los datos por genero"
   ]
  },
  {
   "cell_type": "code",
   "execution_count": 36,
   "metadata": {},
   "outputs": [
    {
     "data": {
      "image/png": "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",
      "text/plain": [
       "<Figure size 511.111x500 with 1 Axes>"
      ]
     },
     "metadata": {},
     "output_type": "display_data"
    }
   ],
   "source": [
    "#Por genero\n",
    "import seaborn as sns\n",
    "import matplotlib.pyplot as plt\n",
    "\n",
    "\n",
    "sns.catplot(data=df, x=\"Gender\", kind=\"count\")\n",
    "plt.show()  "
   ]
  },
  {
   "cell_type": "markdown",
   "metadata": {},
   "source": [
    "## 3.2. Proprocesamiento de los datos\n",
    "\n",
    "A continuación se realizarán las funciones que permitiran usar el conjunto de datos 'Salary_data', con el que se pretende predecir cuál será el salario de una persona, dependiendo de su nivel académico, años de experiencia, cargo al que aspira."
   ]
  },
  {
   "cell_type": "code",
<<<<<<< HEAD
   "execution_count": 12,
=======
   "execution_count": 34,
>>>>>>> 22bb4268e23588460b84885648c5e3ac1bab2261
   "metadata": {},
   "outputs": [],
   "source": [
    "#Creación de la clase para ajustar las variable categorica de nivel educativo\n",
    "import pandas as pd \n",
    "import numpy as np \n",
    "from sklearn.preprocessing import OneHotEncoder\n",
    "\n",
    "class pre:\n",
    "    def creation_data(self, path_csv):\n",
    "        df = pd.read_csv(path_csv)\n",
    "        return df\n",
    "    def declaration_var(self, data, target):\n",
    "        target_1 = data[target]\n",
    "        features = data.drop(target, axis=1)\n",
    "        names_f = {name:set() for name in features}\n",
    "        for i in features:\n",
    "            index_drop = features[i][features[i].isnull() == True].index\n",
    "            features.drop(index_drop, inplace = True)    \n",
    "            target_1.drop(index_drop, inplace = True)\n",
    "        for i in features:\n",
    "            for j in features[i]:\n",
    "                names_f[i].add(j)   \n",
    "        index_targ = target_1[target_1.isnull() == True].index\n",
    "        target_1.drop(index_targ, inplace=True)   \n",
    "        features.drop(index_targ, inplace=True)                    \n",
    "        return target_1, features, names_f\n",
    "    def replace(self, variable, var_1, var_2, features):\n",
    "        new_values = [var_1 if value == var_1 or value == var_2 else value for value in features[variable]]\n",
    "        features[variable] = new_values\n",
    "        return features"
   ]
  },
  {
   "cell_type": "markdown",
   "metadata": {},
   "source": [
    "Importación de las librerías que se usarán"
   ]
  },
  {
   "cell_type": "code",
   "execution_count": 13,
   "metadata": {},
   "outputs": [],
   "source": [
    "from sklearn.pipeline import Pipeline, make_pipeline\n",
    "from sklearn.preprocessing import StandardScaler\n",
    "from sklearn.compose import ColumnTransformer\n",
    "from sklearn.linear_model import LinearRegression, Ridge\n",
    "from sklearn.ensemble import RandomForestRegressor\n",
    "from sklearn.preprocessing import OneHotEncoder\n",
    "from sklearn.metrics import r2_score, mean_squared_error\n",
    "\n",
    "processing = pre()"
   ]
  },
  {
   "cell_type": "markdown",
   "metadata": {},
   "source": [
    "Definición del conjunto de datos del que se hará uso y la variable objetivo, junto a las demás variables"
   ]
  },
  {
   "cell_type": "code",
<<<<<<< HEAD
   "execution_count": 14,
=======
   "execution_count": 17,
>>>>>>> 22bb4268e23588460b84885648c5e3ac1bab2261
   "metadata": {},
   "outputs": [],
   "source": [
    "from sklearn.compose import ColumnTransformer\n",
    "x= pd.read_csv('Salary_Data.csv')\n",
    "x = r'C:\\Users\\Pili\\Documents\\Maestria 2023\\3 Cuatrimestre\\ML2\\Prediccion-salarios\\Salary_Data.csv'\n",
    "#x = r'C:\\Users\\santi\\OneDrive - Universidad Pedagogica Nacional\\El_bosque\\tercer_semestre\\machine_learning_ll\\proyecto\\Salary_Data.csv'\n",
    "data = pre().creation_data(x)\n",
    "target, features, names_f = pre().declaration_var(data, 'Salary')"
   ]
  },
  {
   "cell_type": "markdown",
   "metadata": {},
   "source": [
    "Luego de definir el target y features, se determina que las variables \"Age\",\"Years of Experience\" pueden tener un diferente tipo de formato, con el que se consuma menos recursos computacionales.\n",
    "\n",
    "También, se encontró que en la variable Education Level, poseía errores tipográficos, donde los diferentes elementos que lo conforman estaban nombrados de diferente forma, apesar de representar el mismo objeto.\n",
    "\n",
    "Por ejemplo, Bachelor's Degree representa una persona con un título de bachiller y Bachelor's es la forma en la que se puede resumir a una persona con el mismo título. Por lo tanto, ambos elementos comparten las mismas características y deben tomarse como objeto único.\n"
   ]
  },
  {
   "cell_type": "code",
<<<<<<< HEAD
   "execution_count": 15,
=======
   "execution_count": 19,
>>>>>>> 22bb4268e23588460b84885648c5e3ac1bab2261
   "metadata": {},
   "outputs": [],
   "source": [
    "\n",
    "# Cambiar el tipo de formato\n",
    "features['Age'] = features['Age'].astype('int16')\n",
    "features['Years of Experience'] = features['Years of Experience'].astype('int64')\n",
    "\n",
    "# Unir las variables repetidas\n",
    "features = pre().replace('Education Level', \"Bachelor's\", \"Bachelor's Degree\", features)\n",
    "features = pre().replace('Education Level', \"Master's\", \"Master's Degree\", features)\n",
    "features = pre().replace('Education Level', \"PhD\", \"phD\", features)\n",
    "\n",
    "num_features = ['Age', 'Years of Experience']\n",
    "cat_features = ['Gender', 'Education Level', 'Job Title']"
   ]
  },
  {
   "cell_type": "markdown",
   "metadata": {},
   "source": [
    "Se define los pipelines para las variables categóricas y numéricas, además se transforma en el tipo de dato correcto para que se pueda entrenar con los diferentes modelos de regresión"
   ]
  },
  {
   "cell_type": "markdown",
   "metadata": {},
   "source": [
    "## 4. Entrenamiento del Modelo "
   ]
  },
  {
   "cell_type": "code",
<<<<<<< HEAD
   "execution_count": 16,
=======
   "execution_count": 20,
>>>>>>> 22bb4268e23588460b84885648c5e3ac1bab2261
   "metadata": {},
   "outputs": [],
   "source": [
    "\n",
    "def pipe(categorical_features, features):\n",
    "    num_transformer = Pipeline(steps=[('scaler', StandardScaler())])\n",
    "    cat_transformer = Pipeline(steps=[('one_hot', OneHotEncoder(handle_unknown='ignore'))])\n",
    "    return num_transformer, cat_transformer\n",
    "\n",
    "def column_trans(num_transformer, num_features, cat_transformer, cat_features):\n",
    "    preprocessor = ColumnTransformer(\n",
    "        transformers=[\n",
    "            ('numerical', num_transformer, num_features),\n",
    "            ('categorical', cat_transformer, cat_features)\n",
    "        ]\n",
    "    )\n",
    "    return preprocessor\n",
    "\n",
    "num_transformer, cat_transformer = pipe(cat_features, features)\n",
    "preprocessor = column_trans(num_transformer, num_features, cat_transformer, cat_features)"
   ]
  },
  {
   "cell_type": "markdown",
   "metadata": {},
   "source": [
    "## Models"
   ]
  },
  {
   "cell_type": "markdown",
   "metadata": {},
   "source": [
    "Con esta función se crean diferentes modelos de regresión como Lineal, RandomForest, Ridge"
   ]
  },
  {
   "cell_type": "code",
<<<<<<< HEAD
   "execution_count": 17,
=======
   "execution_count": 21,
>>>>>>> 22bb4268e23588460b84885648c5e3ac1bab2261
   "metadata": {},
   "outputs": [],
   "source": [
    "def gen_pipe( preprocessor):\n",
    "    models = []    \n",
    "    pipeline_ml = Pipeline(\n",
    "        steps = [('preprocessor_column', preprocessor),\n",
    "                ('linear_model', LinearRegression())])\n",
    "    models.append(pipeline_ml)\n",
    "        \n",
    "    pipeline_ridge = Pipeline(\n",
    "        steps = [('preprocessor_column', preprocessor),\n",
    "                ('model_ridge', Ridge(alpha=0.2))])\n",
    "    models.append(pipeline_ridge)\n",
    "    pipeline_rf = Pipeline(\n",
    "        steps=[('preprocessor_column', preprocessor),\n",
    "            ('random_forest', RandomForestRegressor(n_estimators=200))])\n",
    "    models.append(pipeline_rf)\n",
    "    \n",
    "    return models"
   ]
  },
  {
   "cell_type": "markdown",
   "metadata": {},
   "source": [
    "División de los datos de entrenamiento y de prueba"
   ]
  },
  {
   "cell_type": "code",
<<<<<<< HEAD
   "execution_count": 18,
=======
   "execution_count": 22,
>>>>>>> 22bb4268e23588460b84885648c5e3ac1bab2261
   "metadata": {},
   "outputs": [],
   "source": [
    "from sklearn.model_selection import train_test_split \n",
    "from sklearn.utils import resample\n",
    "\n",
    "X_train, X_test,y_train, y_test = train_test_split(features, target, test_size=0.2, random_state=42)\n",
    "models = gen_pipe(preprocessor)"
   ]
  },
  {
   "cell_type": "code",
<<<<<<< HEAD
   "execution_count": 37,
=======
   "execution_count": 23,
>>>>>>> 22bb4268e23588460b84885648c5e3ac1bab2261
   "metadata": {},
   "outputs": [],
   "source": [
    "models_metrics = {i:[] for i in range(len(models)) }\n",
    "\n",
    "\n",
    "\n",
    "for i in models_metrics:\n",
    "    n_bootstraps = 1000\n",
    "    model = models[i].fit(X_train, y_train)\n",
    "    prediction = model.predict(X_test)\n",
    "    bootstraps_predict = []\n",
    "    \n",
    "    for _ in range(n_bootstraps):\n",
    "        muestras_bootstrap = resample(prediction)\n",
    "        statics_bootstrap = np.mean(muestras_bootstrap)\n",
    "        bootstraps_predict.append(statics_bootstrap)\n",
    "\n",
    "    int_conf = np.percentile(bootstraps_predict, [5, 95])\n",
    "    \n",
    "    for j in range(len(int_conf)):\n",
    "        int_conf[j] = round(int_conf[j], 2)\n",
    "    \n",
    "    r2 = r2_score(y_test, prediction)\n",
    "    mse = mean_squared_error(y_test, prediction)\n",
    "    rmse = np.sqrt(mean_squared_error(y_test, prediction))\n",
    "    list_1 = [r2,mse,rmse, int_conf]\n",
    "    models_metrics[i] = [metrics for metrics in list_1]\n",
    "    \n",
    "    \n",
    "        \n"
   ]
  },
  {
   "cell_type": "code",
<<<<<<< HEAD
   "execution_count": 38,
=======
   "execution_count": 24,
>>>>>>> 22bb4268e23588460b84885648c5e3ac1bab2261
   "metadata": {},
   "outputs": [
    {
     "data": {
      "text/html": [
       "<div>\n",
       "<style scoped>\n",
       "    .dataframe tbody tr th:only-of-type {\n",
       "        vertical-align: middle;\n",
       "    }\n",
       "\n",
       "    .dataframe tbody tr th {\n",
       "        vertical-align: top;\n",
       "    }\n",
       "\n",
       "    .dataframe thead th {\n",
       "        text-align: right;\n",
       "    }\n",
       "</style>\n",
       "<table border=\"1\" class=\"dataframe\">\n",
       "  <thead>\n",
       "    <tr style=\"text-align: right;\">\n",
       "      <th></th>\n",
       "      <th>LinearRegression</th>\n",
       "      <th>Ridge</th>\n",
       "      <th>RandomForestRegressor</th>\n",
       "    </tr>\n",
       "  </thead>\n",
       "  <tbody>\n",
       "    <tr>\n",
       "      <th>R2</th>\n",
       "      <td>0.840184</td>\n",
       "      <td>0.840205</td>\n",
       "      <td>0.974792</td>\n",
       "    </tr>\n",
       "    <tr>\n",
       "      <th>mse</th>\n",
<<<<<<< HEAD
       "      <td>455709421.883616</td>\n",
       "      <td>455648120.237456</td>\n",
       "      <td>71880515.531615</td>\n",
       "    </tr>\n",
       "    <tr>\n",
       "      <th>rmse</th>\n",
       "      <td>21347.351636</td>\n",
       "      <td>21345.915774</td>\n",
       "      <td>8478.237761</td>\n",
       "    </tr>\n",
       "    <tr>\n",
       "      <th>intervalo de confianza</th>\n",
       "      <td>[112686.2, 117158.74]</td>\n",
       "      <td>[112764.67, 117218.91]</td>\n",
       "      <td>[112577.93, 117341.32]</td>\n",
=======
       "      <td>4.557092e+08</td>\n",
       "      <td>4.555868e+08</td>\n",
       "      <td>71953721.87</td>\n",
       "    </tr>\n",
       "    <tr>\n",
       "      <th>rmse</th>\n",
       "      <td>2.134735e+04</td>\n",
       "      <td>2.134448e+04</td>\n",
       "      <td>8482.55</td>\n",
>>>>>>> 22bb4268e23588460b84885648c5e3ac1bab2261
       "    </tr>\n",
       "  </tbody>\n",
       "</table>\n",
       "</div>"
      ],
      "text/plain": [
<<<<<<< HEAD
       "                             LinearRegression                   Ridge  \\\n",
       "R2                                   0.840184                0.840205   \n",
       "mse                          455709421.883616        455648120.237456   \n",
       "rmse                             21347.351636            21345.915774   \n",
       "intervalo de confianza  [112686.2, 117158.74]  [112764.67, 117218.91]   \n",
       "\n",
       "                         RandomForestRegressor  \n",
       "R2                                    0.974792  \n",
       "mse                            71880515.531615  \n",
       "rmse                               8478.237761  \n",
       "intervalo de confianza  [112577.93, 117341.32]  "
      ]
     },
     "execution_count": 38,
=======
       "      LinearRegression         Ridge  RandomForestRegressor\n",
       "R2        8.400000e-01  8.400000e-01                   0.97\n",
       "mse       4.557092e+08  4.555868e+08            71953721.87\n",
       "rmse      2.134735e+04  2.134448e+04                8482.55"
      ]
     },
     "execution_count": 24,
>>>>>>> 22bb4268e23588460b84885648c5e3ac1bab2261
     "metadata": {},
     "output_type": "execute_result"
    }
   ],
   "source": [
    "names = ['LinearRegression', 'Ridge', 'RandomForestRegressor']\n",
    "index_final = ['R2', 'mse', 'rmse', 'intervalo de confianza']\n",
    "\n",
    "#Agregar más métricas de desempeño f1, recall, intervalos de confianza, cross_validation, \n",
    "#Agregar matrices de confusión, flasos positivos y demás\n",
    "\n",
    "\n",
    "models_metrics = pd.DataFrame(data = models_metrics,index = index_final)\n",
    "models_metrics.columns = names\n",
    "models_metrics"
   ]
  },
  {
<<<<<<< HEAD
   "cell_type": "code",
   "execution_count": 21,
   "metadata": {},
   "outputs": [],
   "source": [
    "from sklearn.utils import resample \n",
    "\n"
=======
   "cell_type": "markdown",
   "metadata": {},
   "source": [
    "## 5. Ajuste de hiperparametros"
   ]
  },
  {
   "cell_type": "markdown",
   "metadata": {},
   "source": [
    "## 6. Conclusiones"
>>>>>>> 22bb4268e23588460b84885648c5e3ac1bab2261
   ]
  }
 ],
 "metadata": {
  "kernelspec": {
   "display_name": "mi_entorno",
   "language": "python",
   "name": "python3"
  },
  "language_info": {
   "codemirror_mode": {
    "name": "ipython",
    "version": 3
   },
   "file_extension": ".py",
   "mimetype": "text/x-python",
   "name": "python",
   "nbconvert_exporter": "python",
   "pygments_lexer": "ipython3",
   "version": "3.12.1"
  }
 },
 "nbformat": 4,
 "nbformat_minor": 2
}
